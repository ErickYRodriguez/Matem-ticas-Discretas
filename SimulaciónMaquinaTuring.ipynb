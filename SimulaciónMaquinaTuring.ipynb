{
 "cells": [
  {
   "cell_type": "markdown",
   "id": "bd9fb153",
   "metadata": {},
   "source": [
    "# Simulación de una maquina de Turing\n",
    "\n",
    "De acuerdo con lo solicitado en la actividad.\n",
    "\n",
    "A continuación se expone un codigo que simula el comportamiento de una maquina de turing, incluyendo un ejemplo de uso."
   ]
  },
  {
   "cell_type": "markdown",
   "id": "a18d1426",
   "metadata": {},
   "source": [
    "## Construcción del codigo\n",
    "\n",
    "El codigo se divide en 4 partes fundamenteales, siendo la clase TuringMachine y los metodos step, run y get_tape.\n",
    "\n",
    "Recordemos que una maquina de turing se compone de 4 elementod fundamentales, la cinta, el cabezal, un registro de estados y una tabla de instrucciones que vendrian a ser los mismos elementos que simulamos en nuestro codigo. "
   ]
  },
  {
   "cell_type": "markdown",
   "id": "da2d8a44",
   "metadata": {},
   "source": [
    "-------------------------------------------------------------------------------------------------------------------------------"
   ]
  },
  {
   "cell_type": "code",
   "execution_count": 9,
   "id": "a879be70",
   "metadata": {},
   "outputs": [],
   "source": [
    "def __init__(self, tape='', blank_symbol=' ', initial_state='', final_states=None, transition_function=None):\n",
    "    self.tape = list(tape)\n",
    "    self.blank_symbol = blank_symbol\n",
    "    self.head_position = 0\n",
    "    self.current_state = initial_state\n",
    "    self.final_states = final_states if final_states else set()\n",
    "    self.transition_function = transition_function if transition_function else {}"
   ]
  },
  {
   "cell_type": "markdown",
   "id": "fb471296",
   "metadata": {},
   "source": [
    "### 1. Clase TuringMachine\n",
    "\n",
    "__init__ Método Constructor\n",
    "\n",
    "<li>tape: Representa la cinta de la máquina de Turing como una lista de caracteres. Inicialmente, se le asigna una cadena vacía.\n",
    "<li>blank_symbol: Es el símbolo que representa una celda vacía en la cinta. Por defecto, es un espacio en blanco (' ').\n",
    "<li>initial_state: Es el estado inicial de la máquina.\n",
    "<li>final_states: Es un conjunto de estados finales. Si no se proporciona, se inicializa como un conjunto vacío.\n",
    "<li>transition_function: Es un diccionario que define la función de transición de la máquina. Si no se proporciona, se inicializa como un diccionario vacío.\n",
    "<li>head_position: Es la posición del cabezal de lectura/escritura en la cinta. Inicialmente está en la posición 0 (al inicio de la cinta).\n",
    "<li>current_state: Es el estado actual de la máquina, que inicialmente es el estado inicial proporcionado."
   ]
  },
  {
   "cell_type": "code",
   "execution_count": 10,
   "id": "f9d32ecc",
   "metadata": {},
   "outputs": [],
   "source": [
    "def step(self):\n",
    "    if self.current_state in self.final_states:\n",
    "        return False\n",
    "\n",
    "    tape_symbol = self.tape[self.head_position] if self.head_position < len(self.tape) else self.blank_symbol\n",
    "    key = (self.current_state, tape_symbol)\n",
    "\n",
    "    if key in self.transition_function:\n",
    "        new_state, new_symbol, direction = self.transition_function[key]\n",
    "\n",
    "        if self.head_position < len(self.tape):\n",
    "            self.tape[self.head_position] = new_symbol\n",
    "        else:\n",
    "            self.tape.append(new_symbol)\n",
    "\n",
    "        self.current_state = new_state\n",
    "\n",
    "        if direction == 'R':\n",
    "            self.head_position += 1\n",
    "        elif direction == 'L':\n",
    "            self.head_position -= 1\n",
    "\n",
    "        if self.head_position < 0:\n",
    "            self.tape.insert(0, self.blank_symbol)\n",
    "            self.head_position = 0\n",
    "\n",
    "        return True\n",
    "    else:\n",
    "        return False"
   ]
  },
  {
   "cell_type": "markdown",
   "id": "f5c5d6b9",
   "metadata": {},
   "source": [
    "### Método step\n",
    "\n",
    "Propósito: Realiza una única transición de estado según la función de transición.\n",
    "<ul>\n",
    "<li>Chequeo de estado final: Si el estado actual está en los estados finales, la máquina termina y step retorna False.\n",
    "<li>Obtención del símbolo actual de la cinta: Si la posición del cabezal está dentro de la longitud de la cinta, se obtiene el símbolo en esa posición; de lo contrario, se usa el símbolo en blanco.\n",
    "<li>Obtención de la transición: Busca en la función de transición la entrada (estado actual, símbolo actual).\n",
    "<li>Actualización de la cinta: Si se encuentra una transición, se actualiza la cinta con el nuevo símbolo.\n",
    "<li>Actualización del estado y movimiento del cabezal: Se actualiza el estado actual y se mueve el cabezal en la dirección especificada ('R' para derecha, 'L' para izquierda).\n",
    "<li>Manejo del desbordamiento del cabezal: Si el cabezal se mueve a una posición negativa, se inserta un símbolo en blanco al inicio de la cinta y se ajusta la posición del cabezal.\n",
    "<li>Retorno: Retorna True si se realizó una transición, False en caso contrario."
   ]
  },
  {
   "cell_type": "code",
   "execution_count": 11,
   "id": "6c0f9547",
   "metadata": {},
   "outputs": [],
   "source": [
    "def run(self):\n",
    "    steps = 0\n",
    "    while self.step():\n",
    "        steps += 1\n",
    "    return steps"
   ]
  },
  {
   "cell_type": "markdown",
   "id": "562d2764",
   "metadata": {},
   "source": [
    "### Método run\n",
    "\n",
    "Propósito: Ejecuta la máquina de Turing hasta que alcanza un estado final.\n",
    "<ul>\n",
    "<li>Ejecución del método step: Llama repetidamente al método step hasta que este retorne False.\n",
    "<li>Contador de pasos: Cuenta y retorna el número de pasos ejecutados."
   ]
  },
  {
   "cell_type": "code",
   "execution_count": 12,
   "id": "4a1c067e",
   "metadata": {},
   "outputs": [],
   "source": [
    "def get_tape(self):\n",
    "    return ''.join(self.tape).rstrip(self.blank_symbol)"
   ]
  },
  {
   "cell_type": "markdown",
   "id": "158e9d6a",
   "metadata": {},
   "source": [
    "### Método get_tape\n",
    "\n",
    "Propósito: Devuelve el contenido actual de la cinta como una cadena.\n",
    "Eliminación de símbolos en blanco al final: Une los caracteres de la cinta en una cadena y elimina los símbolos en blanco del final usando rstrip."
   ]
  },
  {
   "cell_type": "code",
   "execution_count": 13,
   "id": "8d5a4f33",
   "metadata": {},
   "outputs": [
    {
     "name": "stdout",
     "output_type": "stream",
     "text": [
      "Contenido de la cinta: 0100\n"
     ]
    }
   ],
   "source": [
    "# Definición de la cinta, estado inicial, estados finales y función de transición\n",
    "tape = '1101'\n",
    "initial_state = 'q0'\n",
    "final_states = {'qf'}\n",
    "transition_function = {\n",
    "    ('q0', '1'): ('q1', '0', 'R'),\n",
    "    ('q0', '0'): ('q0', '0', 'R'),\n",
    "    ('q1', '1'): ('q0', '1', 'R'),\n",
    "    ('q1', '0'): ('qf', '1', 'N')\n",
    "}\n",
    "\n",
    "# Crear la máquina de Turing\n",
    "tm = TuringMachine(tape=tape, initial_state=initial_state, final_states=final_states, transition_function=transition_function)\n",
    "\n",
    "# Ejecutar la máquina de Turing\n",
    "tm.run()\n",
    "\n",
    "# Imprimir el contenido final de la cinta\n",
    "print('Contenido de la cinta:', tm.get_tape())"
   ]
  },
  {
   "cell_type": "markdown",
   "id": "0e92c39b",
   "metadata": {},
   "source": [
    "### 2. Definición de parámetros\n",
    "\n",
    "El codigo responde a los siguientes parametros:\n",
    "<ul>\n",
    "<li>tape: La cinta inicial es '1101'.\n",
    "<li>initial_state: El estado inicial es 'q0'.\n",
    "<li>final_states: El conjunto de estados finales contiene 'qf'.\n",
    "<li>transition_function: La función de transición define cómo se comporta la máquina de Turing en cada estado y símbolo de la cinta."
   ]
  },
  {
   "cell_type": "markdown",
   "id": "fdd4314b",
   "metadata": {},
   "source": [
    "-------------------------------------------------------------------------------------------------------------------------------"
   ]
  },
  {
   "cell_type": "markdown",
   "id": "933865c7",
   "metadata": {},
   "source": [
    "## Codigo unido"
   ]
  },
  {
   "cell_type": "code",
   "execution_count": 14,
   "id": "ffc031ba",
   "metadata": {
    "scrolled": true
   },
   "outputs": [
    {
     "name": "stdout",
     "output_type": "stream",
     "text": [
      "Contenido de la cinta: 0100\n"
     ]
    }
   ],
   "source": [
    "class TuringMachine:\n",
    "    def __init__(self, tape='', blank_symbol=' ', initial_state='', final_states=None, transition_function=None):\n",
    "        \"\"\"\n",
    "        tape: Cadena inicial en la cinta.\n",
    "        blank_symbol: Símbolo que representa una celda vacía en la cinta.\n",
    "        initial_state: Estado inicial de la máquina.\n",
    "        final_states: Conjunto de estados finales.\n",
    "        transition_function: Diccionario que define la función de transición.\n",
    "        \"\"\"\n",
    "        self.tape = list(tape)\n",
    "        self.blank_symbol = blank_symbol\n",
    "        self.head_position = 0\n",
    "        self.current_state = initial_state\n",
    "        self.final_states = final_states if final_states else set()\n",
    "        self.transition_function = transition_function if transition_function else {}\n",
    "    \n",
    "    def step(self):\n",
    "        \"\"\"\n",
    "        Realiza una transición de estado según la función de transición.\n",
    "        \"\"\"\n",
    "        if self.current_state in self.final_states:\n",
    "            return False\n",
    "        \n",
    "        tape_symbol = self.tape[self.head_position] if self.head_position < len(self.tape) else self.blank_symbol\n",
    "        key = (self.current_state, tape_symbol)\n",
    "        \n",
    "        if key in self.transition_function:\n",
    "            new_state, new_symbol, direction = self.transition_function[key]\n",
    "            \n",
    "            if self.head_position < len(self.tape):\n",
    "                self.tape[self.head_position] = new_symbol\n",
    "            else:\n",
    "                self.tape.append(new_symbol)\n",
    "                \n",
    "            self.current_state = new_state\n",
    "            \n",
    "            if direction == 'R':\n",
    "                self.head_position += 1\n",
    "            elif direction == 'L':\n",
    "                self.head_position -= 1\n",
    "                \n",
    "            if self.head_position < 0:\n",
    "                self.tape.insert(0, self.blank_symbol)\n",
    "                self.head_position = 0\n",
    "                \n",
    "            return True\n",
    "        else:\n",
    "            return False\n",
    "    \n",
    "    def run(self):\n",
    "        \"\"\"\n",
    "        Ejecuta la máquina de Turing hasta alcanzar un estado final.\n",
    "        \"\"\"\n",
    "        steps = 0\n",
    "        while self.step():\n",
    "            steps += 1\n",
    "        return steps\n",
    "    \n",
    "    def get_tape(self):\n",
    "        \"\"\"\n",
    "        Devuelve el contenido actual de la cinta.\n",
    "        \"\"\"\n",
    "        return ''.join(self.tape).rstrip(self.blank_symbol)\n",
    "\n",
    "\n",
    "# Ejemplo de uso de la Máquina de Turing\n",
    "\n",
    "# Definición de la cinta, estado inicial, estados finales y función de transición\n",
    "tape = '1101'\n",
    "initial_state = 'q0'\n",
    "final_states = {'qf'}\n",
    "transition_function = {\n",
    "    ('q0', '1'): ('q1', '0', 'R'),\n",
    "    ('q0', '0'): ('q0', '0', 'R'),\n",
    "    ('q1', '1'): ('q0', '1', 'R'),\n",
    "    ('q1', '0'): ('qf', '1', 'N')\n",
    "}\n",
    "\n",
    "# Crear la máquina de Turing\n",
    "tm = TuringMachine(tape=tape, initial_state=initial_state, final_states=final_states, transition_function=transition_function)\n",
    "\n",
    "# Ejecutar la máquina de Turing\n",
    "tm.run()\n",
    "\n",
    "# Imprimir el contenido final de la cinta\n",
    "print('Contenido de la cinta:', tm.get_tape())"
   ]
  },
  {
   "cell_type": "markdown",
   "id": "b67391e1",
   "metadata": {},
   "source": [
    "-------------------------------------------------------------------------------------------------------------------------------"
   ]
  },
  {
   "cell_type": "markdown",
   "id": "545d1f62",
   "metadata": {},
   "source": [
    "## Ejemplo de uso"
   ]
  },
  {
   "cell_type": "markdown",
   "id": "4204a414",
   "metadata": {},
   "source": [
    "#### Creación de la máquina de Turing: \n",
    "Se crea una instancia de TuringMachine con los parámetros definidos.\n",
    "\n",
    "#### Ejecución de la máquina: \n",
    "Se llama al método run para ejecutar la máquina de Turing.\n",
    "\n",
    "#### Impresión del resultado: \n",
    "Se imprime el contenido final de la cinta después de que la máquina alcanza un estado final."
   ]
  },
  {
   "cell_type": "markdown",
   "id": "6caf27da",
   "metadata": {},
   "source": [
    "### Ejemplo:\n",
    "\n",
    "Un ejemplo cambiando los valores del codigo para alternar un cero por 1 y vicerversa.\n",
    "<ul>\n",
    "<li>cinta = \"01110111\"\n",
    "<li>Estado incial = \"q0\"\n",
    "<li>Estados finales = \"qf\"\n",
    "\n",
    "transition_function = {\n",
    "    ('q0', '0'): ('q0', '1', 'R'),\n",
    "    ('q0', '1'): ('q0', '0', 'R'),\n",
    "    ('q0', ' '): ('qf', ' ', 'N')\n",
    "}\n"
   ]
  },
  {
   "cell_type": "code",
   "execution_count": 15,
   "id": "7425a68f",
   "metadata": {},
   "outputs": [
    {
     "data": {
      "text/plain": [
       "9"
      ]
     },
     "execution_count": 15,
     "metadata": {},
     "output_type": "execute_result"
    }
   ],
   "source": [
    "# Definición de la cinta, estado inicial, estados finales y función de transición\n",
    "tape = '01110111'\n",
    "initial_state = 'q0'\n",
    "final_states = {'qf'}\n",
    "transition_function = {\n",
    "    ('q0', '0'): ('q0', '1', 'R'),\n",
    "    ('q0', '1'): ('q0', '0', 'R'),\n",
    "    ('q0', ' '): ('qf', ' ', 'N')\n",
    "}\n",
    "\n",
    "# Crear la máquina de Turing\n",
    "tm = TuringMachine(tape=tape, initial_state=initial_state, final_states=final_states, transition_function=transition_function)\n",
    "\n",
    "# Ejecutar la máquina de Turing\n",
    "tm.run()"
   ]
  },
  {
   "cell_type": "code",
   "execution_count": 16,
   "id": "155cea81",
   "metadata": {},
   "outputs": [
    {
     "name": "stdout",
     "output_type": "stream",
     "text": [
      "Contenido de la cinta: 10001000\n"
     ]
    }
   ],
   "source": [
    "# Imprimir el contenido final de la cinta\n",
    "print('Contenido de la cinta:', tm.get_tape())"
   ]
  },
  {
   "cell_type": "markdown",
   "id": "fcd51fce",
   "metadata": {},
   "source": [
    "De esta forma en el ejemplos anterior (000010001) tenemos una maquina de turing que alterna los valores de la cinta en base a su función de transición arrojando el resultado (10001000) cumpliendo  asi su función."
   ]
  }
 ],
 "metadata": {
  "kernelspec": {
   "display_name": "Python 3 (ipykernel)",
   "language": "python",
   "name": "python3"
  },
  "language_info": {
   "codemirror_mode": {
    "name": "ipython",
    "version": 3
   },
   "file_extension": ".py",
   "mimetype": "text/x-python",
   "name": "python",
   "nbconvert_exporter": "python",
   "pygments_lexer": "ipython3",
   "version": "3.11.7"
  }
 },
 "nbformat": 4,
 "nbformat_minor": 5
}
