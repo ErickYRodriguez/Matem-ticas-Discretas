{
 "cells": [
  {
   "cell_type": "markdown",
   "id": "8d668296",
   "metadata": {},
   "source": [
    "![](https://bnetcmsus-a.akamaihd.net/cms/blog_header/ci/CIGT53U8ZP6M1509744317189.jpg)"
   ]
  },
  {
   "cell_type": "markdown",
   "id": "f0792714",
   "metadata": {},
   "source": [
    "# AUTOMATAS DE UNIDADES EN STARCRAFT 2"
   ]
  },
  {
   "cell_type": "markdown",
   "id": "39089414",
   "metadata": {},
   "source": [
    "## Introducción\n",
    "\n",
    "Starcraft 2 es un videojuego de estrategia en tiempo real de ciencia ficción militar desarrollado por Blizzard Entertainment. Perteneciente al género RTS fue lanzado el 27 de febrero de 2010 siendo el sucesor de Starcraft y el segundo juego de la saga. En su momento se convertiría en el fenómeno mundial de los esports sobretodo en corea del sur donde sigue siendo ampliamente jugado hasta día de hoy.\n",
    "\n",
    "Esencialmente el juego se popularizo por su innovación a la hora de incluir 3 razas distintas pero equilibradas entre sí, lo que ampliaba la posibilidad de juego y diversificaba la estrategia, además estuvo acompañado de un multijugador realmente divertido y competitivo gracias al servicio de Battle.net."
   ]
  },
  {
   "cell_type": "markdown",
   "id": "b939f78d",
   "metadata": {},
   "source": [
    "## Motivo\n",
    "\n",
    "Como todos los juegos RTS starcraft se centra en la gestión y el manejo de unidades, siendo estas la piedra angular del juego y de cada partida, para este proyecto desarrollare los autómatas que describen el comportamiento de estas unidades.\n",
    "\n",
    "Esencialmente existen 2 tipos de unidades:"
   ]
  },
  {
   "cell_type": "markdown",
   "id": "95476f56",
   "metadata": {},
   "source": [
    "<li>Ejercito\n",
    "<li>Obrero"
   ]
  },
  {
   "cell_type": "markdown",
   "id": "3e9622a6",
   "metadata": {},
   "source": [
    "Como veremos la principal diferencia entre las unidades es su función, siendo que las unidades de ejercito se centran en la defensa y el ataque lo que se traduce a infligir daño, las unidades Obrero se encargan de la recolección y la infraestructura lo que se traduce a que posibilitan la creación de ejército."
   ]
  },
  {
   "cell_type": "markdown",
   "id": "75b30995",
   "metadata": {},
   "source": [
    "---"
   ]
  },
  {
   "cell_type": "markdown",
   "id": "e4a7b52a",
   "metadata": {},
   "source": [
    "## Diagrama de unidades\n",
    "\n",
    "Aqui un diagrama que ejemplifica los tipos de unidades en el videojuego."
   ]
  },
  {
   "cell_type": "markdown",
   "id": "540187fe",
   "metadata": {},
   "source": [
    "![](https://i.postimg.cc/nLj3Cm0L/1.jpg)"
   ]
  },
  {
   "cell_type": "markdown",
   "id": "9f687098",
   "metadata": {},
   "source": [
    "## Autómata para unidad de Trabajo\n",
    "\n",
    "Independientemente de la raza, la unidad de trabajo es una sola en las tres, que sería:"
   ]
  },
  {
   "cell_type": "markdown",
   "id": "a57afd8d",
   "metadata": {},
   "source": [
    "<li>Terran: VCE\n",
    "<li>Protoss: Sonda\n",
    "<li>Zerg: Zángano "
   ]
  },
  {
   "cell_type": "markdown",
   "id": "89f8cd86",
   "metadata": {},
   "source": [
    "![](https://bnetcmsus-a.akamaihd.net/cms/content_entry_media/ms/MSIGJA6VN30C1437704141929.gif)"
   ]
  },
  {
   "cell_type": "markdown",
   "id": "aec0e6ae",
   "metadata": {},
   "source": [
    "---"
   ]
  },
  {
   "cell_type": "markdown",
   "id": "926b45f2",
   "metadata": {},
   "source": [
    "El autómata del VCE es el siguiente:\n",
    "\n",
    "**Estados**\n",
    "<li>Idle (I): El VCE no está realizando ninguna acción.\n",
    "<li>Moving (M): El VCE se está moviendo a un destino.\n",
    "<li>Gathering Resources (G): El VCE está recolectando minerales o gas.\n",
    "<li>Building (B): El VCE está construyendo un edificio.\n",
    "<li>Repairing (R): El VCE está reparando una estructura o unidad.\n",
    "<li>Under Attack (U): El VCE está siendo atacado."
   ]
  },
  {
   "cell_type": "markdown",
   "id": "9d657ee8",
   "metadata": {},
   "source": [
    "**Transiciones**\n",
    "<li>Move Command (move): Comando para que el VCE se mueva a una ubicación específica.\n",
    "<li>Gather Command (gather): Comando para que el VCE comience a recolectar recursos.\n",
    "<li>Build Command (build): Comando para que el VCE comience a construir un edificio.\n",
    "<li>Repair Command (repair): Comando para que el VCE repare una estructura o unidad.\n",
    "<li>Stop Command (stop): Comando para que el VCE detenga su acción actual.\n",
    "<li>Under Attack (attacked): Transición automática cuando el VCE es atacado.\n",
    "<li>Return to Idle (idle): Transición automática cuando el VCE termina una tarea y no tiene ninguna otra tarea asignada."
   ]
  },
  {
   "attachments": {},
   "cell_type": "markdown",
   "id": "f4ea466b",
   "metadata": {},
   "source": [
    "![](https://i.postimg.cc/vm790W48/T.jpg)"
   ]
  },
  {
   "cell_type": "markdown",
   "id": "d22e80ed",
   "metadata": {},
   "source": [
    "A=\n",
    "<ul>\n",
    "<li>Q= {I,U,G,M,B,D,R}\n",
    "<li>Σ= {attacked, repair, move, build, gather, stop}\n",
    "<li>ð= -\n",
    "<li>q0= I\n",
    "<li>F= {D}"
   ]
  },
  {
   "cell_type": "markdown",
   "id": "56d56473",
   "metadata": {},
   "source": [
    "![](https://i.postimg.cc/4d50R7Ss/DT.jpg)"
   ]
  },
  {
   "cell_type": "markdown",
   "id": "731e6e83",
   "metadata": {},
   "source": [
    "De las tres razas los obreros terran denominados como VCE son los que tienen el set de habilidades más completo, puesto que al igual que sus equivalentes en las otras razas tienen la capacidad de recolectar recursos, pero además pueden realizar reparaciones sobre edificios o unidades mecánicas y tienen la peculiaridad de que al construir un edificio lo hacen manualmente, por lo que hay que esperar un periodo de tiempo dependiendo la estructura en cuestión."
   ]
  },
  {
   "cell_type": "markdown",
   "id": "32c39c05",
   "metadata": {},
   "source": [
    "---"
   ]
  },
  {
   "cell_type": "markdown",
   "id": "fe73127f",
   "metadata": {},
   "source": [
    "El autómata de la sonda es el siguiente:\n",
    "\n",
    "**Estados**\n",
    "<li>Idle (I): La Sonda no está realizando ninguna acción.\n",
    "<li>Moving (M): La Sonda se está moviendo a un destino.\n",
    "<li>Gathering Resources (G): La Sonda está recolectando minerales o gas.\n",
    "<li>Under Attack (U): La Sonda está siendo atacada."
   ]
  },
  {
   "cell_type": "markdown",
   "id": "a6496a28",
   "metadata": {},
   "source": [
    "**Transiciones**\n",
    "<li>Move Command (move): Comando para que la Sonda se mueva a una ubicación específica.\n",
    "<li>Gather Command (gather): Comando para que la Sonda comience a recolectar recursos.\n",
    "<li>Build Command (build): Comando para que la Sonda inicie la construcción de un edificio.\n",
    "<li>Stop Command (stop): Comando para que la Sonda detenga su acción actual.\n",
    "<li>Under Attack (attacked): Transición automática cuando la Sonda es atacada.\n",
    "<li>Return to Idle (idle): Transición automática cuando la Sonda termina una tarea y no tiene ninguna otra tarea asignada."
   ]
  },
  {
   "cell_type": "markdown",
   "id": "49fd39f5",
   "metadata": {},
   "source": [
    "![](https://i.postimg.cc/pLFKFNxF/P.jpg)"
   ]
  },
  {
   "cell_type": "markdown",
   "id": "ac4c8553",
   "metadata": {},
   "source": [
    "A=\n",
    "<ul>\n",
    "<li>Q= {I,U,G,M,IB,D}\n",
    "<li>Σ= {attacked, move, iniatilize building, gather, stop}\n",
    "<li>ð= -\n",
    "<li>q0= I\n",
    "<li>F= {D}"
   ]
  },
  {
   "cell_type": "markdown",
   "id": "20a80b07",
   "metadata": {},
   "source": [
    "![](https://i.postimg.cc/Y0Csrr5g/DP.jpg)"
   ]
  },
  {
   "cell_type": "markdown",
   "id": "0b7a045b",
   "metadata": {},
   "source": [
    "Nótese que a diferencia del obrero terran, la sonda protoss no se detiene a construir un edificio, sino que simplemente inicializa la construcción pasando directamente al estado \"idle\", además la sondas protoss no realizan ningún tipo de reparación."
   ]
  },
  {
   "cell_type": "markdown",
   "id": "8dfa61b2",
   "metadata": {},
   "source": [
    "---"
   ]
  },
  {
   "cell_type": "markdown",
   "id": "f9c5a4e6",
   "metadata": {},
   "source": [
    "El autómata del zángano es el siguiente:\n",
    "\n",
    "**Estados**\n",
    "<li>Idle (I): El Zángano no está realizando ninguna acción.\n",
    "<li>Moving (M): El Zángano se está moviendo a un destino.\n",
    "<li>Gathering Resources (G): El Zángano está recolectando minerales o gas.\n",
    "<li>Transforming into Building (T): El Zángano se está transformando en un edificio.\n",
    "<li>Under Attack (U): El Zángano está siendo atacado."
   ]
  },
  {
   "cell_type": "markdown",
   "id": "619dc4f0",
   "metadata": {},
   "source": [
    "**Transiciones**\n",
    "<li>Move Command (move): Comando para que el Zángano se mueva a una ubicación específica.\n",
    "<li>Gather Command (gather): Comando para que el Zángano comience a recolectar recursos.\n",
    "<li>Build Command (build): Comando para que el Zángano se transforme en un edificio.\n",
    "<li>Stop Command (stop): Comando para que el Zángano detenga su acción actual.\n",
    "<li>Under Attack (attacked): Transición automática cuando el Zángano es atacado.\n",
    "<li>Return to Idle (idle): Transición automática cuando el Zángano termina una tarea y no tiene ninguna otra tarea asignada.\n"
   ]
  },
  {
   "cell_type": "markdown",
   "id": "493c7cc9",
   "metadata": {},
   "source": [
    "![](https://i.postimg.cc/MGJV0sKr/Z.jpg)"
   ]
  },
  {
   "cell_type": "markdown",
   "id": "81106eee",
   "metadata": {},
   "source": [
    "A=\n",
    "<ul>\n",
    "<li>Q= {I,U,G,M,B,D}\n",
    "<li>Σ= {attacked, gather, move, build, stop}\n",
    "<li>ð= -\n",
    "<li>q0= I\n",
    "<li>F= {D}"
   ]
  },
  {
   "cell_type": "markdown",
   "id": "ea766844",
   "metadata": {},
   "source": [
    "![](https://i.postimg.cc/d3NSLMFf/DZ.jpg)"
   ]
  },
  {
   "cell_type": "markdown",
   "id": "a169cde5",
   "metadata": {},
   "source": [
    "Finalmente, nótese que él automata del zerg llega a su estado final al ser atacado (igual que los demás) o bien al construir algún edificio, ya que una característica de los zerg es que el obrero se convierte directamente en el edificio."
   ]
  },
  {
   "cell_type": "markdown",
   "id": "140561b7",
   "metadata": {},
   "source": [
    "---"
   ]
  },
  {
   "cell_type": "markdown",
   "id": "eead36b0",
   "metadata": {},
   "source": [
    "## Autómata para unidad de Ejercito\n",
    "\n",
    "Por otra parte, dentro de las unidades del ejercitoexisten dos tipos de unidades diferentes pero que de igual forma son iguales en las tres razas con aspecto y características propias pero equivalentes."
   ]
  },
  {
   "cell_type": "markdown",
   "id": "827919fc",
   "metadata": {},
   "source": [
    "Estos dos tipos de unidades dentro del ejercito son:"
   ]
  },
  {
   "cell_type": "markdown",
   "id": "f8a5881b",
   "metadata": {},
   "source": [
    "<li>Utilidad\n",
    "<li>Ataque"
   ]
  },
  {
   "cell_type": "markdown",
   "id": "25fc355e",
   "metadata": {},
   "source": [
    "![](https://bnetcmsus-a.akamaihd.net/cms/page_media/NVVHYQPXAEG41462324653220.gif)"
   ]
  },
  {
   "cell_type": "markdown",
   "id": "7e191934",
   "metadata": {},
   "source": [
    "La principal diferencia es que las unidades de Utilidad no hacen daño directo o no poseen ataques básicos, en su lugar hace uso de habilidades especificas o cumple con funciones propias que pueden afectar tanto positiva como negativamente a unidades aliadas o enemigas, por su parte las unidades del ejercito que son de ataque se centran totalmente en infligir daño."
   ]
  },
  {
   "cell_type": "markdown",
   "id": "2c78140c",
   "metadata": {},
   "source": [
    "---"
   ]
  },
  {
   "cell_type": "markdown",
   "id": "58ade31f",
   "metadata": {},
   "source": [
    "De esta forma el autómata de una unidad de Ataque es el siguiente:\n",
    "    \n",
    "**Estados**\n",
    "<li>Idle (I): La unidad no está realizando ninguna acción.\n",
    "<li>Moving (M): La unidad se está moviendo a un destino.\n",
    "<li>Attacking (A): La unidad está atacando a un enemigo.\n",
    "<li>Under Attack (U): La unidad está siendo atacada.\n",
    "<li>Dead (D): La unidad ha sido destruida."
   ]
  },
  {
   "cell_type": "markdown",
   "id": "c002fab6",
   "metadata": {},
   "source": [
    "**Transiciones**\n",
    "<li>Move Command (move): Comando para que la unidad se mueva a una ubicación específica.\n",
    "<li>Attack Command (attack): Comando para que la unidad ataque a un enemigo.\n",
    "<li>Stop Command (stop): Comando para que la unidad detenga su acción actual.\n",
    "<li>Under Attack (attacked): Transición automática cuando la unidad es atacada.\n",
    "<li>Unit Dies (die): Transición automática cuando la unidad es destruida.\n",
    "<li>Return to Idle (idle): Transición automática cuando la unidad termina una tarea y no tiene ninguna otra tarea asignada.\n"
   ]
  },
  {
   "cell_type": "markdown",
   "id": "cb4c62d0",
   "metadata": {},
   "source": [
    "![](https://i.postimg.cc/wMMwKWNQ/UA.jpg)"
   ]
  },
  {
   "cell_type": "markdown",
   "id": "72202a35",
   "metadata": {},
   "source": [
    "A=\n",
    "<ul>\n",
    "<li>Q= {I,U,M,D}\n",
    "<li>Σ= {attacked, attack, move, die, stop}\n",
    "<li>ð= -\n",
    "<li>q0= I\n",
    "<li>F= {D}"
   ]
  },
  {
   "cell_type": "markdown",
   "id": "d7baae9b",
   "metadata": {},
   "source": [
    "![](https://i.postimg.cc/JnmFFcKp/DA.jpg)"
   ]
  },
  {
   "cell_type": "markdown",
   "id": "8013c109",
   "metadata": {},
   "source": [
    "---"
   ]
  },
  {
   "cell_type": "markdown",
   "id": "f6f6058e",
   "metadata": {},
   "source": [
    "De esta forma el autómata de una unidad de Utilidad es el siguiente:\n",
    "    \n",
    "**Estados**\n",
    "<li>Idle (I): La unidad no está realizando ninguna acción.\n",
    "<li>Moving (M): La unidad se está moviendo a un destino.\n",
    "<li>Using Ability (A): La unidad está usando una habilidad especial.\n",
    "<li>Under Attack (U): La unidad está siendo atacada.\n",
    "<li>Dead (D): La unidad ha sido destruida."
   ]
  },
  {
   "cell_type": "markdown",
   "id": "acaa9e52",
   "metadata": {},
   "source": [
    "**Transiciones**\n",
    "<li>Move Command (move): Comando para que la unidad se mueva a una ubicación específica.\n",
    "<li>Use Ability Command (use_ability): Comando para que la unidad use una habilidad especial.\n",
    "<li>Stop Command (stop): Comando para que la unidad detenga su acción actual.\n",
    "<li>Under Attack (attacked): Transición automática cuando la unidad es atacada.\n",
    "<li>Unit Dies (die): Transición automática cuando la unidad es destruida.\n",
    "<li>Return to Idle (idle): Transición automática cuando la unidad termina una tarea y no tiene ninguna otra tarea asignada.\n"
   ]
  },
  {
   "cell_type": "markdown",
   "id": "1e56d1a7",
   "metadata": {},
   "source": [
    "![](https://i.postimg.cc/2620Kp15/UU.jpg)"
   ]
  },
  {
   "cell_type": "markdown",
   "id": "e7b8bdd5",
   "metadata": {},
   "source": [
    "A=\n",
    "<ul>\n",
    "<li>Q= {I,U,UA,M,D}\n",
    "<li>Σ= {attacked, use ability, move, die, stop}\n",
    "<li>ð= -\n",
    "<li>q0= I\n",
    "<li>F= {D}"
   ]
  },
  {
   "attachments": {},
   "cell_type": "markdown",
   "id": "9c152b1c",
   "metadata": {},
   "source": [
    "![](https://i.postimg.cc/9fyS1NP4/DU.jpg)"
   ]
  },
  {
   "cell_type": "markdown",
   "id": "9d8ed0da",
   "metadata": {},
   "source": [
    "---"
   ]
  },
  {
   "cell_type": "markdown",
   "id": "a5a52ac4",
   "metadata": {},
   "source": [
    "**Ejemplo simple en codigo de la ejecución de un VCE**\n",
    "<ul>\n",
    "    Por ultimo un ejemplo basico de como responderia un VCE a ciertos comandos por ejemplo: {Gather, Gather, Build, Attacked, Died}, que seria una representación de una vida util promedio para una unidad de este tipo."
   ]
  },
  {
   "cell_type": "code",
   "execution_count": 7,
   "id": "798e1434",
   "metadata": {},
   "outputs": [
    {
     "name": "stdout",
     "output_type": "stream",
     "text": [
      "Estado inicial: Idle\n",
      "Transitioned to: Gathering\n",
      "Transitioned to: Under Attack\n",
      "Transitioned to: Dead\n"
     ]
    }
   ],
   "source": [
    "class VCEAutomaton:\n",
    "    def __init__(self):\n",
    "        self.state = 'Idle'\n",
    "        self.attacked_count = 0  # Contador de ataques\n",
    "\n",
    "    def move(self):\n",
    "        if self.state in ['Idle', 'Moving', 'Gathering', 'Repairing']:\n",
    "            self.state = 'Moving'\n",
    "            print(f\"Transitioned to: {self.state}\")\n",
    "\n",
    "    def gather(self):\n",
    "        if self.state in ['Idle', 'Moving']:\n",
    "            self.state = 'Gathering'\n",
    "            print(f\"Transitioned to: {self.state}\")\n",
    "\n",
    "    def build(self):\n",
    "        if self.state in ['Idle', 'Moving']:\n",
    "            self.state = 'Building'\n",
    "            print(f\"Transitioned to: {self.state}\")\n",
    "\n",
    "    def repair(self):\n",
    "        if self.state in ['Idle', 'Moving']:\n",
    "            self.state = 'Repairing'\n",
    "            print(f\"Transitioned to: {self.state}\")\n",
    "\n",
    "    def stop(self):\n",
    "        if self.state in ['Moving', 'Gathering', 'Building', 'Repairing']:\n",
    "            self.state = 'Idle'\n",
    "            print(f\"Transitioned to: {self.state}\")\n",
    "\n",
    "    def attacked(self):\n",
    "        self.attacked_count += 1\n",
    "        if self.attacked_count >= 2:\n",
    "            self.state = 'Dead'\n",
    "            print(f\"Transitioned to: {self.state}\")\n",
    "        else:\n",
    "            self.state = 'Under Attack'\n",
    "            print(f\"Transitioned to: {self.state}\")\n",
    "\n",
    "    def die(self):\n",
    "        self.state = 'Dead'\n",
    "        print(f\"Transitioned to: {self.state}\")\n",
    "\n",
    "    def idle(self):\n",
    "        if self.state in ['Gathering', 'Building', 'Repairing', 'Under Attack']:\n",
    "            self.state = 'Idle'\n",
    "            print(f\"Transitioned to: {self.state}\")\n",
    "\n",
    "    def get_state(self):\n",
    "        return self.state\n",
    "\n",
    "# Ejemplo de uso\n",
    "vce = VCEAutomaton()\n",
    "print(f\"Estado inicial: {vce.get_state()}\")\n",
    "\n",
    "vce.gather()\n",
    "vce.gather()\n",
    "vce.build()\n",
    "vce.attacked()\n",
    "vce.attacked()"
   ]
  },
  {
   "cell_type": "markdown",
   "id": "d1e16f17",
   "metadata": {},
   "source": [
    "**Notas:**\n",
    "<ul>\n",
    "<li>Los diagramas son originales, la decisión de utilizar palabras en ingles es para respetar los comandos originales del juego.\n",
    "<li>El estado inicial de todas las unidades es \"idle\" ya que es el estado primero y basico de todas las unidades desde que son creadas en sus respectivos edificios.\n",
    "<li>El estado final o de aceptación de todas las unidades no es idle sino \"dead\", puesto que por la naturaleza del juego el objetivo esperado de todas las unidades es finalmente morir."
   ]
  },
  {
   "cell_type": "markdown",
   "id": "e59705db",
   "metadata": {},
   "source": [
    "**LINKS A DIAGRAMAS:**\n",
    "\n",
    "[Recursos de imagen](https://www.canva.com/design/DAGHlu6hulw/GQDxD5Bg82OVpkTVxF7O8A/edit?utm_content=DAGHlu6hulw&utm_campaign=designshare&utm_medium=link2&utm_source=sharebutton)"
   ]
  },
  {
   "cell_type": "markdown",
   "id": "d9ea442f",
   "metadata": {},
   "source": [
    "**Referencias:**\n",
    "<ul>\n",
    "<li>StarCraft II. (s. f.). https://starcraft2.blizzard.com/es-es/\n",
    "\n",
    "<li>colaboradores de Wikipedia. (2024e, enero 22). StarCraft II: Wings of Liberty. Wikipedia, la Enciclopedia Libre. https://es.wikipedia.org/wiki/StarCraft_II:_Wings_of_Liberty\n",
    "\n",
    "<li>StarCraftWiki, C. T. (s. f.). StarCraft II. StarCraftWiki. https://starcraft.fandom.com/es/wiki/StarCraft_II\n",
    "\n",
    "<li>Joe Llerena. (2010, 25 julio). Teoría de autómatas [Vídeo]. YouTube. https://www.youtube.com/watch?v=pfJSqvQFOxI\n",
    "    \n",
    "<li> OpenAI. (2024). Descripción del autómata para una unidades en Starcraft 2. Asistencia proporcionada por ChatGPT. OpenAI.\n",
    "    \n",
    "<li>SC2 p — Postimages. (s. f.). https://postimg.cc/gallery/HrpVWY1"
   ]
  }
 ],
 "metadata": {
  "kernelspec": {
   "display_name": "Python 3 (ipykernel)",
   "language": "python",
   "name": "python3"
  },
  "language_info": {
   "codemirror_mode": {
    "name": "ipython",
    "version": 3
   },
   "file_extension": ".py",
   "mimetype": "text/x-python",
   "name": "python",
   "nbconvert_exporter": "python",
   "pygments_lexer": "ipython3",
   "version": "3.11.7"
  }
 },
 "nbformat": 4,
 "nbformat_minor": 5
}
